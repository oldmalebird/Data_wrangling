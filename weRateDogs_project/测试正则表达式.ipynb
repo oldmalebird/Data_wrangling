{
 "cells": [
  {
   "cell_type": "code",
   "execution_count": 80,
   "metadata": {},
   "outputs": [],
   "source": [
    "import pandas as pd\n",
    "import numpy as np\n",
    "import json\n"
   ]
  },
  {
   "cell_type": "code",
   "execution_count": 81,
   "metadata": {},
   "outputs": [],
   "source": [
    "tweets_clean = pd.read_csv('twitter-archive-enhanced.csv')"
   ]
  },
  {
   "cell_type": "code",
   "execution_count": 82,
   "metadata": {},
   "outputs": [],
   "source": [
    "tweets_clean = tweets_clean[tweets_clean.retweeted_status_id.isnull()]"
   ]
  },
  {
   "cell_type": "code",
   "execution_count": 83,
   "metadata": {},
   "outputs": [],
   "source": [
    "tweets_clean = tweets_clean[['tweet_id', 'timestamp', 'text', 'rating_numerator', 'rating_denominator', 'name']]"
   ]
  },
  {
   "cell_type": "code",
   "execution_count": 84,
   "metadata": {},
   "outputs": [
    {
     "name": "stdout",
     "output_type": "stream",
     "text": [
      "<class 'pandas.core.frame.DataFrame'>\n",
      "Int64Index: 2175 entries, 0 to 2355\n",
      "Data columns (total 6 columns):\n",
      "tweet_id              2175 non-null int64\n",
      "timestamp             2175 non-null object\n",
      "text                  2175 non-null object\n",
      "rating_numerator      2175 non-null int64\n",
      "rating_denominator    2175 non-null int64\n",
      "name                  2175 non-null object\n",
      "dtypes: int64(3), object(3)\n",
      "memory usage: 118.9+ KB\n"
     ]
    }
   ],
   "source": [
    "tweets_clean.info()"
   ]
  },
  {
   "cell_type": "code",
   "execution_count": 74,
   "metadata": {},
   "outputs": [
    {
     "name": "stdout",
     "output_type": "stream",
     "text": [
      "<class 'pandas.core.frame.DataFrame'>\n",
      "Int64Index: 2175 entries, 0 to 2355\n",
      "Data columns (total 6 columns):\n",
      "tweet_id              2175 non-null int64\n",
      "timestamp             2175 non-null object\n",
      "text                  2175 non-null object\n",
      "rating_numerator      2175 non-null float64\n",
      "rating_denominator    2175 non-null float64\n",
      "name                  2175 non-null object\n",
      "dtypes: float64(2), int64(1), object(3)\n",
      "memory usage: 118.9+ KB\n"
     ]
    }
   ],
   "source": [
    "tweets_clean.rating_numerator = tweets_clean.rating_numerator.astype(float)\n",
    "tweets_clean.rating_denominator = tweets_clean.rating_denominator.astype(float)\n",
    "tweets_clean.info()"
   ]
  },
  {
   "cell_type": "code",
   "execution_count": 78,
   "metadata": {},
   "outputs": [
    {
     "data": {
      "text/plain": [
       "12       498\n",
       "11       423\n",
       "13       307\n",
       "9        153\n",
       "8         98\n",
       "7         57\n",
       "14        44\n",
       "5         35\n",
       "6         33\n",
       "4         20\n",
       "3         19\n",
       "2          9\n",
       "1          7\n",
       ".11        4\n",
       ".9         3\n",
       ".12        2\n",
       "1776       1\n",
       "182        1\n",
       "88         1\n",
       "99         1\n",
       "11.26      1\n",
       "666        1\n",
       "9.5        1\n",
       "17         1\n",
       "121        1\n",
       "143        1\n",
       "11.27      1\n",
       ".8         1\n",
       "144        1\n",
       "45         1\n",
       "13.5       1\n",
       "9.75       1\n",
       "44         1\n",
       ".13        1\n",
       "15         1\n",
       "165        1\n",
       "84         1\n",
       "Name: rating_numerator, dtype: int64"
      ]
     },
     "execution_count": 78,
     "metadata": {},
     "output_type": "execute_result"
    }
   ],
   "source": [
    "#tweets_clean.rating_numerator = tweets_clean.text.str.extract('([1-9]*\\.?[1-9]+)(?:/[1-9]+0)', expand=False).values\n",
    "#tweets_clean.rating_denominator = tweets_clean.text.str.extract('(?:[1-9]*\\.?[1-9]+/)([1-9]+0)', expand=False).values\n",
    "#tweets_clean.rating_numerator.value_counts()"
   ]
  },
  {
   "cell_type": "code",
   "execution_count": 86,
   "metadata": {},
   "outputs": [
    {
     "data": {
      "text/plain": [
       "1      1285\n",
       "11.       2\n",
       "9.        2\n",
       "14        2\n",
       "8         2\n",
       "4         2\n",
       "66        1\n",
       "12        1\n",
       "13.       1\n",
       "16        1\n",
       "9         1\n",
       "177       1\n",
       "18        1\n",
       "Name: rating_numerator, dtype: int64"
      ]
     },
     "execution_count": 86,
     "metadata": {},
     "output_type": "execute_result"
    }
   ],
   "source": [
    "tweets_clean.rating_numerator = tweets_clean.text.str.extract('([1-9]+\\.*)([1-9]+)(?:/[1-9]+0)', expand=False).values\n",
    "tweets_clean.rating_denominator = tweets_clean.text.str.extract('(?:[1-9]*\\.?[1-9]+/)([1-9]+0)', expand=False).values\n",
    "tweets_clean.rating_numerator.value_counts()"
   ]
  },
  {
   "cell_type": "code",
   "execution_count": 87,
   "metadata": {},
   "outputs": [
    {
     "data": {
      "text/plain": [
       "12       498\n",
       "11       423\n",
       "13       307\n",
       "9        153\n",
       "8         98\n",
       "7         57\n",
       "14        44\n",
       "5         35\n",
       "6         33\n",
       "4         20\n",
       "3         19\n",
       "2          9\n",
       "1          7\n",
       ".11        4\n",
       ".9         3\n",
       ".12        2\n",
       "1776       1\n",
       "182        1\n",
       "88         1\n",
       "99         1\n",
       "11.26      1\n",
       "666        1\n",
       "9.5        1\n",
       "17         1\n",
       "121        1\n",
       "143        1\n",
       "11.27      1\n",
       ".8         1\n",
       "144        1\n",
       "45         1\n",
       "13.5       1\n",
       "9.75       1\n",
       "44         1\n",
       ".13        1\n",
       "15         1\n",
       "165        1\n",
       "84         1\n",
       "Name: rating_numerator, dtype: int64"
      ]
     },
     "execution_count": 87,
     "metadata": {},
     "output_type": "execute_result"
    }
   ],
   "source": [
    "tweets_clean.rating_numerator = tweets_clean.text.str.extract('(([1-9]*\\.?)[1-9]+)(?:/[1-9]+0)', expand=False).values\n",
    "#tweets_clean.rating_denominator = tweets_clean.text.str.extract('(?:[1-9]*\\.?[1-9]+/)([1-9]+0)', expand=False).values\n",
    "tweets_clean.rating_numerator.value_counts()"
   ]
  },
  {
   "cell_type": "code",
   "execution_count": 99,
   "metadata": {},
   "outputs": [
    {
     "data": {
      "text/plain": [
       "12       500\n",
       "11       427\n",
       "13       308\n",
       "9        156\n",
       "8         99\n",
       "7         57\n",
       "14        44\n",
       "5         35\n",
       "6         33\n",
       "4         20\n",
       "3         19\n",
       "2          9\n",
       "1          7\n",
       "99         1\n",
       "182        1\n",
       "11.26      1\n",
       "666        1\n",
       "17         1\n",
       "1776       1\n",
       "143        1\n",
       "84         1\n",
       "144        1\n",
       "45         1\n",
       "9.5        1\n",
       "44         1\n",
       "15         1\n",
       "165        1\n",
       "11.27      1\n",
       "121        1\n",
       "9.75       1\n",
       "88         1\n",
       "13.5       1\n",
       "Name: rating_numerator, dtype: int64"
      ]
     },
     "execution_count": 99,
     "metadata": {},
     "output_type": "execute_result"
    }
   ],
   "source": [
    "#This one works!\n",
    "tweets_clean.rating_numerator = tweets_clean.text.str.extract('(([1-9]+\\.)?([1-9]+))(?:/[1-9]+0)', expand=False).values\n",
    "#tweets_clean.rating_denominator = tweets_clean.text.str.extract('(?:[1-9]*\\.?[1-9]+/)([1-9]+0)', expand=False).values\n",
    "tweets_clean.rating_denominator = tweets_clean.text.str.extract('(?:(([1-9]+\\.)?([1-9]+)/))([1-9]+0)', expand=False).values\n",
    "tweets_clean.rating_numerator.value_counts()"
   ]
  },
  {
   "cell_type": "code",
   "execution_count": 100,
   "metadata": {},
   "outputs": [
    {
     "name": "stdout",
     "output_type": "stream",
     "text": [
      "<class 'pandas.core.frame.DataFrame'>\n",
      "Int64Index: 2175 entries, 0 to 2355\n",
      "Data columns (total 6 columns):\n",
      "tweet_id              2175 non-null int64\n",
      "timestamp             2175 non-null object\n",
      "text                  2175 non-null object\n",
      "rating_numerator      1733 non-null object\n",
      "rating_denominator    1733 non-null object\n",
      "name                  2175 non-null object\n",
      "dtypes: int64(1), object(5)\n",
      "memory usage: 118.9+ KB\n"
     ]
    }
   ],
   "source": [
    "tweets_clean.info()"
   ]
  },
  {
   "cell_type": "code",
   "execution_count": 101,
   "metadata": {},
   "outputs": [
    {
     "data": {
      "text/plain": [
       "Series([], Name: text, dtype: object)"
      ]
     },
     "execution_count": 101,
     "metadata": {},
     "output_type": "execute_result"
    }
   ],
   "source": [
    "pd.set_option('max_colwidth', 140)\n",
    "tweets_clean[tweets_clean['rating_numerator']=='.11'].text"
   ]
  },
  {
   "cell_type": "code",
   "execution_count": 52,
   "metadata": {},
   "outputs": [
    {
     "data": {
      "text/plain": [
       "12       501\n",
       "11       428\n",
       "13       310\n",
       "14        44\n",
       "84         1\n",
       "45         1\n",
       "99         1\n",
       "11.26      1\n",
       "666        1\n",
       "17         1\n",
       "1776       1\n",
       "143        1\n",
       "144        1\n",
       "44         1\n",
       "13.5       1\n",
       "9.5        1\n",
       "15         1\n",
       "165        1\n",
       "11.27      1\n",
       "121        1\n",
       "9.75       1\n",
       "88         1\n",
       "182        1\n",
       "Name: rating_numerator, dtype: int64"
      ]
     },
     "execution_count": 52,
     "metadata": {},
     "output_type": "execute_result"
    }
   ],
   "source": [
    "tweets_clean.rating_numerator = tweets_clean.text.str.extract('(([1-9]+\\.*)([1-9]+))(?:/[1-9]+0)', expand=False).values\n",
    "tweets_clean.rating_numerator.value_counts()"
   ]
  },
  {
   "cell_type": "code",
   "execution_count": 56,
   "metadata": {},
   "outputs": [
    {
     "data": {
      "text/plain": [
       "12       501\n",
       "11       428\n",
       "13       310\n",
       "14        44\n",
       "84         1\n",
       "45         1\n",
       "99         1\n",
       "11.26      1\n",
       "666        1\n",
       "17         1\n",
       "1776       1\n",
       "143        1\n",
       "144        1\n",
       "44         1\n",
       "13.5       1\n",
       "9.5        1\n",
       "15         1\n",
       "165        1\n",
       "11.27      1\n",
       "121        1\n",
       "9.75       1\n",
       "88         1\n",
       "182        1\n",
       "Name: rating_numerator, dtype: int64"
      ]
     },
     "execution_count": 56,
     "metadata": {},
     "output_type": "execute_result"
    }
   ],
   "source": [
    "tweets_clean.rating_numerator = tweets_clean.text.str.extract('([1-9]+\\.*[1-9]+)(?:/[1-9]+0)', expand=False).values\n",
    "tweets_clean.rating_numerator.value_counts()"
   ]
  },
  {
   "cell_type": "code",
   "execution_count": 50,
   "metadata": {},
   "outputs": [
    {
     "data": {
      "text/plain": [
       "763    This is Sophie. She's a Jubilant Bush Pupper. Super h*ckin rare. Appears at random just to smile at the locals. 11.27/10 would smile bac...\n",
       "Name: text, dtype: object"
      ]
     },
     "execution_count": 50,
     "metadata": {},
     "output_type": "execute_result"
    }
   ],
   "source": [
    "pd.set_option('max_colwidth', 140)\n",
    "tweets_clean[tweets_clean['rating_numerator']=='11.27'].text"
   ]
  },
  {
   "cell_type": "code",
   "execution_count": 51,
   "metadata": {},
   "outputs": [
    {
     "name": "stdout",
     "output_type": "stream",
     "text": [
      "<class 'pandas.core.frame.DataFrame'>\n",
      "Int64Index: 2175 entries, 0 to 2355\n",
      "Data columns (total 6 columns):\n",
      "tweet_id              2175 non-null int64\n",
      "timestamp             2175 non-null object\n",
      "text                  2175 non-null object\n",
      "rating_numerator      1302 non-null object\n",
      "rating_denominator    1733 non-null object\n",
      "name                  2175 non-null object\n",
      "dtypes: int64(1), object(5)\n",
      "memory usage: 118.9+ KB\n"
     ]
    }
   ],
   "source": [
    "tweets_clean.info()"
   ]
  },
  {
   "cell_type": "code",
   "execution_count": null,
   "metadata": {},
   "outputs": [],
   "source": []
  }
 ],
 "metadata": {
  "kernelspec": {
   "display_name": "Python 3",
   "language": "python",
   "name": "python3"
  },
  "language_info": {
   "codemirror_mode": {
    "name": "ipython",
    "version": 3
   },
   "file_extension": ".py",
   "mimetype": "text/x-python",
   "name": "python",
   "nbconvert_exporter": "python",
   "pygments_lexer": "ipython3",
   "version": "3.6.6"
  }
 },
 "nbformat": 4,
 "nbformat_minor": 2
}
